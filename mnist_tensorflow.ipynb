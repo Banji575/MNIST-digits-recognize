{
 "cells": [
  {
   "cell_type": "code",
   "execution_count": null,
   "id": "6afe3d29-00ff-49d7-9259-33996d2055f8",
   "metadata": {},
   "outputs": [],
   "source": [
    "from keras.api._v2.keras import activations\n",
    "import tensorflow as tf\n",
    "from tensorflow.keras import datasets, layers, models, optimizers\n",
    "from tensorflow.keras.datasets import mnist\n",
    "\n",
    "EPOCHS = 10\n",
    "BATCH_SIZE = 128\n",
    "VERBOSE = 1\n",
    "OPTIMIZER = tf.keras.optimizers.Adam()\n",
    "VALIDATION_SPLIT = .2\n",
    "IMG_ROWS = 28\n",
    "IMG_COLS = 28\n",
    "INPUT_SHAPE = (IMG_ROWS, IMG_COLS,1)\n",
    "NB_CLASSES = 10\n",
    "\n",
    "def build(input_shape, classes):\n",
    "    model = models.Sequential()\n",
    "    model.add(layers.Convolution2D(32, (3,3), padding = 'same', activation = 'relu', input_shape = input_shape))\n",
    "    model.add(layers.MaxPooling2D(pool_size= (2,2)))\n",
    "    model.add(layers.Convolution2D(64, (3,3), padding = 'same', activation = 'relu'))\n",
    "    model.add(layers.MaxPooling2D(pool_size = (2,2)))\n",
    "    model.add(layers.Flatten())\n",
    "    model.add(layers.Dense(50, activation = 'relu'))\n",
    "    model.add(layers.Dropout(.2))\n",
    "    model.add(layers.Dense(classes, activation = 'softmax'))\n",
    "    return model\n",
    "\n",
    "\n",
    "(x_train, y_train), (x_test, y_test) = mnist.load_data()\n",
    "\n",
    "# Предобработка данных\n",
    "x_train = x_train / 255.0\n",
    "x_test = x_test / 255.0\n",
    "\n",
    "x_train = x_train.astype('float32')\n",
    "x_test = x_test.astype('float32')\n",
    "x_train = x_train.reshape((x_train.shape[0], IMG_ROWS, IMG_COLS, 1))\n",
    "x_test = x_test.reshape((x_test.shape[0], IMG_ROWS, IMG_COLS, 1))\n",
    "\n",
    "y_train = tf.keras.utils.to_categorical(y_train, NB_CLASSES)\n",
    "y_test = tf.keras.utils.to_categorical(y_test, NB_CLASSES)\n",
    "\n",
    "\n",
    "\n",
    "\n",
    "model = build(INPUT_SHAPE, NB_CLASSES)\n",
    "model.compile(loss = 'categorical_crossentropy', optimizer = OPTIMIZER, metrics = ['accuracy'])\n",
    "\n",
    "model.summary()\n",
    "with tf.device('/GPU:0'):\n",
    "    history = model.fit(x_train, y_train, batch_size = BATCH_SIZE, epochs = EPOCHS,\n",
    "                   verbose = VERBOSE, validation_split = VALIDATION_SPLIT)\n"
   ]
  }
 ],
 "metadata": {
  "kernelspec": {
   "display_name": "Python 3 (ipykernel)",
   "language": "python",
   "name": "python3"
  },
  "language_info": {
   "codemirror_mode": {
    "name": "ipython",
    "version": 3
   },
   "file_extension": ".py",
   "mimetype": "text/x-python",
   "name": "python",
   "nbconvert_exporter": "python",
   "pygments_lexer": "ipython3",
   "version": "3.11.4"
  }
 },
 "nbformat": 4,
 "nbformat_minor": 5
}
